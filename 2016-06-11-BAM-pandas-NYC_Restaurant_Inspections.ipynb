{
 "cells": [
  {
   "cell_type": "markdown",
   "metadata": {},
   "source": [
    "# New York City Restaurant Inspection Results\n",
    "\n",
    "## Exploration with Pandas\n",
    "\n",
    "Data available at https://data.cityofnewyork.us/Health/DOHMH-New-York-City-Restaurant-Inspection-Results/xx67-kt59\n",
    "or direct download at: https://data.cityofnewyork.us/api/views/xx67-kt59/rows.csv?accessType=DOWNLOAD\n",
    "\n",
    "Data accessed June 11th, 2016"
   ]
  },
  {
   "cell_type": "code",
   "execution_count": 1,
   "metadata": {
    "collapsed": true
   },
   "outputs": [],
   "source": [
    "import pandas as pd"
   ]
  },
  {
   "cell_type": "code",
   "execution_count": 4,
   "metadata": {
    "collapsed": false
   },
   "outputs": [
    {
     "data": {
      "text/plain": [
       "450806"
      ]
     },
     "execution_count": 4,
     "metadata": {},
     "output_type": "execute_result"
    }
   ],
   "source": [
    "all_data = pd.read_csv(\"data/DOHMH_New_York_City_Restaurant_Inspection_Results.csv\")\n",
    "len(all_data)"
   ]
  },
  {
   "cell_type": "code",
   "execution_count": 6,
   "metadata": {
    "collapsed": false
   },
   "outputs": [
    {
     "data": {
      "text/html": [
       "<div>\n",
       "<table border=\"1\" class=\"dataframe\">\n",
       "  <thead>\n",
       "    <tr style=\"text-align: right;\">\n",
       "      <th></th>\n",
       "      <th>CAMIS</th>\n",
       "      <th>DBA</th>\n",
       "      <th>BORO</th>\n",
       "      <th>BUILDING</th>\n",
       "      <th>STREET</th>\n",
       "      <th>ZIPCODE</th>\n",
       "      <th>PHONE</th>\n",
       "      <th>CUISINE DESCRIPTION</th>\n",
       "      <th>INSPECTION DATE</th>\n",
       "      <th>ACTION</th>\n",
       "      <th>VIOLATION CODE</th>\n",
       "      <th>VIOLATION DESCRIPTION</th>\n",
       "      <th>CRITICAL FLAG</th>\n",
       "      <th>SCORE</th>\n",
       "      <th>GRADE</th>\n",
       "      <th>GRADE DATE</th>\n",
       "      <th>RECORD DATE</th>\n",
       "      <th>INSPECTION TYPE</th>\n",
       "    </tr>\n",
       "  </thead>\n",
       "  <tbody>\n",
       "    <tr>\n",
       "      <th>0</th>\n",
       "      <td>40886675</td>\n",
       "      <td>CANARD INC</td>\n",
       "      <td>MANHATTAN</td>\n",
       "      <td>503</td>\n",
       "      <td>WEST   43 STREET</td>\n",
       "      <td>10036</td>\n",
       "      <td>2129471561</td>\n",
       "      <td>American</td>\n",
       "      <td>03/24/2014</td>\n",
       "      <td>Violations were cited in the following area(s).</td>\n",
       "      <td>08A</td>\n",
       "      <td>Facility not vermin proof. Harborage or condit...</td>\n",
       "      <td>Not Critical</td>\n",
       "      <td>17.0</td>\n",
       "      <td>NaN</td>\n",
       "      <td>NaN</td>\n",
       "      <td>06/10/2016</td>\n",
       "      <td>Cycle Inspection / Initial Inspection</td>\n",
       "    </tr>\n",
       "    <tr>\n",
       "      <th>1</th>\n",
       "      <td>41480500</td>\n",
       "      <td>BLACK GOLD</td>\n",
       "      <td>BROOKLYN</td>\n",
       "      <td>461</td>\n",
       "      <td>COURT STREET</td>\n",
       "      <td>11231</td>\n",
       "      <td>3472278227</td>\n",
       "      <td>CafÃ©/Coffee/Tea</td>\n",
       "      <td>10/10/2013</td>\n",
       "      <td>Violations were cited in the following area(s).</td>\n",
       "      <td>04M</td>\n",
       "      <td>Live roaches present in facility's food and/or...</td>\n",
       "      <td>Critical</td>\n",
       "      <td>38.0</td>\n",
       "      <td>NaN</td>\n",
       "      <td>NaN</td>\n",
       "      <td>06/10/2016</td>\n",
       "      <td>Cycle Inspection / Initial Inspection</td>\n",
       "    </tr>\n",
       "  </tbody>\n",
       "</table>\n",
       "</div>"
      ],
      "text/plain": [
       "      CAMIS         DBA       BORO BUILDING            STREET  ZIPCODE  \\\n",
       "0  40886675  CANARD INC  MANHATTAN      503  WEST   43 STREET    10036   \n",
       "1  41480500  BLACK GOLD   BROOKLYN      461      COURT STREET    11231   \n",
       "\n",
       "        PHONE CUISINE DESCRIPTION INSPECTION DATE  \\\n",
       "0  2129471561            American      03/24/2014   \n",
       "1  3472278227    CafÃ©/Coffee/Tea      10/10/2013   \n",
       "\n",
       "                                            ACTION VIOLATION CODE  \\\n",
       "0  Violations were cited in the following area(s).            08A   \n",
       "1  Violations were cited in the following area(s).            04M   \n",
       "\n",
       "                               VIOLATION DESCRIPTION CRITICAL FLAG  SCORE  \\\n",
       "0  Facility not vermin proof. Harborage or condit...  Not Critical   17.0   \n",
       "1  Live roaches present in facility's food and/or...      Critical   38.0   \n",
       "\n",
       "  GRADE GRADE DATE RECORD DATE                        INSPECTION TYPE  \n",
       "0   NaN        NaN  06/10/2016  Cycle Inspection / Initial Inspection  \n",
       "1   NaN        NaN  06/10/2016  Cycle Inspection / Initial Inspection  "
      ]
     },
     "execution_count": 6,
     "metadata": {},
     "output_type": "execute_result"
    }
   ],
   "source": [
    "all_data.head(2)"
   ]
  },
  {
   "cell_type": "code",
   "execution_count": 12,
   "metadata": {
    "collapsed": false
   },
   "outputs": [
    {
     "name": "stdout",
     "output_type": "stream",
     "text": [
      "6 records are duplicated\n"
     ]
    },
    {
     "data": {
      "text/html": [
       "<div>\n",
       "<table border=\"1\" class=\"dataframe\">\n",
       "  <thead>\n",
       "    <tr style=\"text-align: right;\">\n",
       "      <th></th>\n",
       "      <th>CAMIS</th>\n",
       "      <th>DBA</th>\n",
       "      <th>BORO</th>\n",
       "      <th>BUILDING</th>\n",
       "      <th>STREET</th>\n",
       "      <th>ZIPCODE</th>\n",
       "      <th>PHONE</th>\n",
       "      <th>CUISINE DESCRIPTION</th>\n",
       "      <th>INSPECTION DATE</th>\n",
       "      <th>ACTION</th>\n",
       "      <th>VIOLATION CODE</th>\n",
       "      <th>VIOLATION DESCRIPTION</th>\n",
       "      <th>CRITICAL FLAG</th>\n",
       "      <th>SCORE</th>\n",
       "      <th>GRADE</th>\n",
       "      <th>GRADE DATE</th>\n",
       "      <th>RECORD DATE</th>\n",
       "      <th>INSPECTION TYPE</th>\n",
       "    </tr>\n",
       "  </thead>\n",
       "  <tbody>\n",
       "    <tr>\n",
       "      <th>140713</th>\n",
       "      <td>41453018</td>\n",
       "      <td>ROCK BAR</td>\n",
       "      <td>MANHATTAN</td>\n",
       "      <td>185</td>\n",
       "      <td>CHRISTOPHER STREET</td>\n",
       "      <td>10014</td>\n",
       "      <td>2126751864</td>\n",
       "      <td>American</td>\n",
       "      <td>02/11/2015</td>\n",
       "      <td>Violations were cited in the following area(s).</td>\n",
       "      <td>10H</td>\n",
       "      <td>Proper sanitization not provided for utensil w...</td>\n",
       "      <td>Not Critical</td>\n",
       "      <td>23.0</td>\n",
       "      <td>NaN</td>\n",
       "      <td>NaN</td>\n",
       "      <td>06/10/2016</td>\n",
       "      <td>Cycle Inspection / Initial Inspection</td>\n",
       "    </tr>\n",
       "    <tr>\n",
       "      <th>235500</th>\n",
       "      <td>41453018</td>\n",
       "      <td>ROCK BAR</td>\n",
       "      <td>MANHATTAN</td>\n",
       "      <td>185</td>\n",
       "      <td>CHRISTOPHER STREET</td>\n",
       "      <td>10014</td>\n",
       "      <td>2126751864</td>\n",
       "      <td>American</td>\n",
       "      <td>02/11/2015</td>\n",
       "      <td>Violations were cited in the following area(s).</td>\n",
       "      <td>08A</td>\n",
       "      <td>Facility not vermin proof. Harborage or condit...</td>\n",
       "      <td>Not Critical</td>\n",
       "      <td>23.0</td>\n",
       "      <td>NaN</td>\n",
       "      <td>NaN</td>\n",
       "      <td>06/10/2016</td>\n",
       "      <td>Cycle Inspection / Initial Inspection</td>\n",
       "    </tr>\n",
       "    <tr>\n",
       "      <th>360241</th>\n",
       "      <td>41453018</td>\n",
       "      <td>ROCK BAR</td>\n",
       "      <td>MANHATTAN</td>\n",
       "      <td>185</td>\n",
       "      <td>CHRISTOPHER STREET</td>\n",
       "      <td>10014</td>\n",
       "      <td>2126751864</td>\n",
       "      <td>American</td>\n",
       "      <td>02/11/2015</td>\n",
       "      <td>Violations were cited in the following area(s).</td>\n",
       "      <td>22C</td>\n",
       "      <td>Bulb not shielded or shatterproof, in areas wh...</td>\n",
       "      <td>Not Critical</td>\n",
       "      <td>NaN</td>\n",
       "      <td>NaN</td>\n",
       "      <td>NaN</td>\n",
       "      <td>06/10/2016</td>\n",
       "      <td>Administrative Miscellaneous / Initial Inspection</td>\n",
       "    </tr>\n",
       "    <tr>\n",
       "      <th>369237</th>\n",
       "      <td>41077301</td>\n",
       "      <td>COZY CAFE</td>\n",
       "      <td>MANHATTAN</td>\n",
       "      <td>43</td>\n",
       "      <td>EAST 1 STREET</td>\n",
       "      <td>10003</td>\n",
       "      <td>2124750177</td>\n",
       "      <td>Middle Eastern</td>\n",
       "      <td>03/09/2016</td>\n",
       "      <td>Violations were cited in the following area(s).</td>\n",
       "      <td>15I</td>\n",
       "      <td>''''No Smoking\u001a and/or 'Smoking Permitted\u001a sig...</td>\n",
       "      <td>Not Critical</td>\n",
       "      <td>NaN</td>\n",
       "      <td>NaN</td>\n",
       "      <td>NaN</td>\n",
       "      <td>06/10/2016</td>\n",
       "      <td>Smoke-Free Air Act / Initial Inspection</td>\n",
       "    </tr>\n",
       "    <tr>\n",
       "      <th>386974</th>\n",
       "      <td>41453018</td>\n",
       "      <td>ROCK BAR</td>\n",
       "      <td>MANHATTAN</td>\n",
       "      <td>185</td>\n",
       "      <td>CHRISTOPHER STREET</td>\n",
       "      <td>10014</td>\n",
       "      <td>2126751864</td>\n",
       "      <td>American</td>\n",
       "      <td>02/11/2015</td>\n",
       "      <td>Violations were cited in the following area(s).</td>\n",
       "      <td>06C</td>\n",
       "      <td>Food not protected from potential source of co...</td>\n",
       "      <td>Critical</td>\n",
       "      <td>23.0</td>\n",
       "      <td>NaN</td>\n",
       "      <td>NaN</td>\n",
       "      <td>06/10/2016</td>\n",
       "      <td>Cycle Inspection / Initial Inspection</td>\n",
       "    </tr>\n",
       "    <tr>\n",
       "      <th>444524</th>\n",
       "      <td>41453018</td>\n",
       "      <td>ROCK BAR</td>\n",
       "      <td>MANHATTAN</td>\n",
       "      <td>185</td>\n",
       "      <td>CHRISTOPHER STREET</td>\n",
       "      <td>10014</td>\n",
       "      <td>2126751864</td>\n",
       "      <td>American</td>\n",
       "      <td>02/11/2015</td>\n",
       "      <td>Violations were cited in the following area(s).</td>\n",
       "      <td>04L</td>\n",
       "      <td>Evidence of mice or live mice present in facil...</td>\n",
       "      <td>Critical</td>\n",
       "      <td>23.0</td>\n",
       "      <td>NaN</td>\n",
       "      <td>NaN</td>\n",
       "      <td>06/10/2016</td>\n",
       "      <td>Cycle Inspection / Initial Inspection</td>\n",
       "    </tr>\n",
       "  </tbody>\n",
       "</table>\n",
       "</div>"
      ],
      "text/plain": [
       "           CAMIS        DBA       BORO BUILDING              STREET  ZIPCODE  \\\n",
       "140713  41453018   ROCK BAR  MANHATTAN      185  CHRISTOPHER STREET    10014   \n",
       "235500  41453018   ROCK BAR  MANHATTAN      185  CHRISTOPHER STREET    10014   \n",
       "360241  41453018   ROCK BAR  MANHATTAN      185  CHRISTOPHER STREET    10014   \n",
       "369237  41077301  COZY CAFE  MANHATTAN       43       EAST 1 STREET    10003   \n",
       "386974  41453018   ROCK BAR  MANHATTAN      185  CHRISTOPHER STREET    10014   \n",
       "444524  41453018   ROCK BAR  MANHATTAN      185  CHRISTOPHER STREET    10014   \n",
       "\n",
       "             PHONE CUISINE DESCRIPTION INSPECTION DATE  \\\n",
       "140713  2126751864            American      02/11/2015   \n",
       "235500  2126751864            American      02/11/2015   \n",
       "360241  2126751864            American      02/11/2015   \n",
       "369237  2124750177      Middle Eastern      03/09/2016   \n",
       "386974  2126751864            American      02/11/2015   \n",
       "444524  2126751864            American      02/11/2015   \n",
       "\n",
       "                                                 ACTION VIOLATION CODE  \\\n",
       "140713  Violations were cited in the following area(s).            10H   \n",
       "235500  Violations were cited in the following area(s).            08A   \n",
       "360241  Violations were cited in the following area(s).            22C   \n",
       "369237  Violations were cited in the following area(s).            15I   \n",
       "386974  Violations were cited in the following area(s).            06C   \n",
       "444524  Violations were cited in the following area(s).            04L   \n",
       "\n",
       "                                    VIOLATION DESCRIPTION CRITICAL FLAG  \\\n",
       "140713  Proper sanitization not provided for utensil w...  Not Critical   \n",
       "235500  Facility not vermin proof. Harborage or condit...  Not Critical   \n",
       "360241  Bulb not shielded or shatterproof, in areas wh...  Not Critical   \n",
       "369237  ''''No Smoking\u001a and/or 'Smoking Permitted\u001a sig...  Not Critical   \n",
       "386974  Food not protected from potential source of co...      Critical   \n",
       "444524  Evidence of mice or live mice present in facil...      Critical   \n",
       "\n",
       "        SCORE GRADE GRADE DATE RECORD DATE  \\\n",
       "140713   23.0   NaN        NaN  06/10/2016   \n",
       "235500   23.0   NaN        NaN  06/10/2016   \n",
       "360241    NaN   NaN        NaN  06/10/2016   \n",
       "369237    NaN   NaN        NaN  06/10/2016   \n",
       "386974   23.0   NaN        NaN  06/10/2016   \n",
       "444524   23.0   NaN        NaN  06/10/2016   \n",
       "\n",
       "                                          INSPECTION TYPE  \n",
       "140713              Cycle Inspection / Initial Inspection  \n",
       "235500              Cycle Inspection / Initial Inspection  \n",
       "360241  Administrative Miscellaneous / Initial Inspection  \n",
       "369237            Smoke-Free Air Act / Initial Inspection  \n",
       "386974              Cycle Inspection / Initial Inspection  \n",
       "444524              Cycle Inspection / Initial Inspection  "
      ]
     },
     "execution_count": 12,
     "metadata": {},
     "output_type": "execute_result"
    }
   ],
   "source": [
    "# any duplicates?\n",
    "dups = all_data[all_data.duplicated()]\n",
    "print( str(len(dups)) + \" records are duplicated\")\n",
    "\n",
    "dups"
   ]
  },
  {
   "cell_type": "code",
   "execution_count": 38,
   "metadata": {
    "collapsed": true
   },
   "outputs": [],
   "source": [
    "# TODO:\n",
    "# remove dups"
   ]
  },
  {
   "cell_type": "code",
   "execution_count": 17,
   "metadata": {
    "collapsed": false
   },
   "outputs": [
    {
     "data": {
      "text/plain": [
       "count    421286.000000\n",
       "mean         19.499426\n",
       "std          13.090040\n",
       "min          -2.000000\n",
       "25%                NaN\n",
       "50%                NaN\n",
       "75%                NaN\n",
       "max         156.000000\n",
       "Name: SCORE, dtype: float64"
      ]
     },
     "execution_count": 17,
     "metadata": {},
     "output_type": "execute_result"
    }
   ],
   "source": [
    "all_data['SCORE'].describe()"
   ]
  },
  {
   "cell_type": "code",
   "execution_count": 31,
   "metadata": {
    "collapsed": false
   },
   "outputs": [
    {
     "data": {
      "text/plain": [
       "[-2, 8]      50293\n",
       "(8, 10]      48375\n",
       "(10, 12]     63971\n",
       "(12, 13]     26604\n",
       "(13, 16]     23524\n",
       "(16, 19]     40402\n",
       "(19, 23]     48102\n",
       "(23, 27]     38170\n",
       "(27, 36]     41934\n",
       "(36, 156]    39911\n",
       "Name: SCORE, dtype: int64"
      ]
     },
     "execution_count": 31,
     "metadata": {},
     "output_type": "execute_result"
    }
   ],
   "source": [
    "# http://stackoverflow.com/questions/14451185/better-binning-in-pandas\n",
    "deciles = pd.qcut(all_data['SCORE'], 10)\n",
    "counts = pd.value_counts(deciles)\n",
    "\n",
    "counts.reindex(deciles.cat.categories)"
   ]
  },
  {
   "cell_type": "code",
   "execution_count": 37,
   "metadata": {
    "collapsed": false
   },
   "outputs": [
    {
     "data": {
      "text/plain": [
       "3.136826040469736"
      ]
     },
     "execution_count": 37,
     "metadata": {},
     "output_type": "execute_result"
    }
   ],
   "source": [
    "(float(len(all_data[all_data['SCORE'] > 50])) / len(all_data)) * 100"
   ]
  },
  {
   "cell_type": "markdown",
   "metadata": {},
   "source": [
    "looks like there might be an outlier in the scores given that one of the bins is (36, 156], the stddev is 13.09 and ~ 3% of the SCORES are more than 50. These might just be egregious cases though. Otherwise, looks pretty good."
   ]
  },
  {
   "cell_type": "markdown",
   "metadata": {},
   "source": [
    "This looks like an interesting data set with 450806 inspection results. The possibility of exploring categorical and numerical trends exists. Let's start with understanding how many inspections took place in each burough.\n",
    "\n",
    "## How Many Inspections In Each Burough"
   ]
  },
  {
   "cell_type": "code",
   "execution_count": 67,
   "metadata": {
    "collapsed": false
   },
   "outputs": [
    {
     "data": {
      "text/html": [
       "<div>\n",
       "<table border=\"1\" class=\"dataframe\">\n",
       "  <thead>\n",
       "    <tr style=\"text-align: right;\">\n",
       "      <th></th>\n",
       "      <th>count_CAMIS</th>\n",
       "    </tr>\n",
       "    <tr>\n",
       "      <th>BORO</th>\n",
       "      <th></th>\n",
       "    </tr>\n",
       "  </thead>\n",
       "  <tbody>\n",
       "    <tr>\n",
       "      <th>Missing</th>\n",
       "      <td>26</td>\n",
       "    </tr>\n",
       "    <tr>\n",
       "      <th>STATEN ISLAND</th>\n",
       "      <td>14785</td>\n",
       "    </tr>\n",
       "    <tr>\n",
       "      <th>BRONX</th>\n",
       "      <td>40384</td>\n",
       "    </tr>\n",
       "    <tr>\n",
       "      <th>QUEENS</th>\n",
       "      <td>106906</td>\n",
       "    </tr>\n",
       "    <tr>\n",
       "      <th>BROOKLYN</th>\n",
       "      <td>108691</td>\n",
       "    </tr>\n",
       "    <tr>\n",
       "      <th>MANHATTAN</th>\n",
       "      <td>180014</td>\n",
       "    </tr>\n",
       "  </tbody>\n",
       "</table>\n",
       "</div>"
      ],
      "text/plain": [
       "               count_CAMIS\n",
       "BORO                      \n",
       "Missing                 26\n",
       "STATEN ISLAND        14785\n",
       "BRONX                40384\n",
       "QUEENS              106906\n",
       "BROOKLYN            108691\n",
       "MANHATTAN           180014"
      ]
     },
     "execution_count": 67,
     "metadata": {},
     "output_type": "execute_result"
    }
   ],
   "source": [
    "all_data[['CAMIS', 'BORO']].groupby(['BORO']).count().add_prefix('count_').sort_values(by='count_CAMIS')"
   ]
  },
  {
   "cell_type": "markdown",
   "metadata": {},
   "source": [
    "This shows the number of inspection records in each burough. However, there can be multiple records for each individual inspection that takes place. To get at the number of unique inspections, the data would have to be grouped by CAMIS and date of inspection (assuming only one inspection at each restaurant can occur).\n",
    "\n",
    "## Who Are The Worst Critical Offenders\n",
    "\n",
    "### Who has the most number of critical violations?"
   ]
  },
  {
   "cell_type": "code",
   "execution_count": 84,
   "metadata": {
    "collapsed": false
   },
   "outputs": [
    {
     "data": {
      "text/html": [
       "<div>\n",
       "<table border=\"1\" class=\"dataframe\">\n",
       "  <thead>\n",
       "    <tr style=\"text-align: right;\">\n",
       "      <th></th>\n",
       "      <th>CRITICAL FLAG</th>\n",
       "    </tr>\n",
       "    <tr>\n",
       "      <th>CAMIS</th>\n",
       "      <th></th>\n",
       "    </tr>\n",
       "  </thead>\n",
       "  <tbody>\n",
       "    <tr>\n",
       "      <th>41586091</th>\n",
       "      <td>66</td>\n",
       "    </tr>\n",
       "    <tr>\n",
       "      <th>41602559</th>\n",
       "      <td>64</td>\n",
       "    </tr>\n",
       "    <tr>\n",
       "      <th>41683816</th>\n",
       "      <td>60</td>\n",
       "    </tr>\n",
       "    <tr>\n",
       "      <th>41510846</th>\n",
       "      <td>58</td>\n",
       "    </tr>\n",
       "    <tr>\n",
       "      <th>41197758</th>\n",
       "      <td>57</td>\n",
       "    </tr>\n",
       "    <tr>\n",
       "      <th>41653529</th>\n",
       "      <td>56</td>\n",
       "    </tr>\n",
       "    <tr>\n",
       "      <th>41583748</th>\n",
       "      <td>56</td>\n",
       "    </tr>\n",
       "    <tr>\n",
       "      <th>41459659</th>\n",
       "      <td>56</td>\n",
       "    </tr>\n",
       "    <tr>\n",
       "      <th>41289382</th>\n",
       "      <td>56</td>\n",
       "    </tr>\n",
       "    <tr>\n",
       "      <th>41203533</th>\n",
       "      <td>55</td>\n",
       "    </tr>\n",
       "  </tbody>\n",
       "</table>\n",
       "</div>"
      ],
      "text/plain": [
       "          CRITICAL FLAG\n",
       "CAMIS                  \n",
       "41586091             66\n",
       "41602559             64\n",
       "41683816             60\n",
       "41510846             58\n",
       "41197758             57\n",
       "41653529             56\n",
       "41583748             56\n",
       "41459659             56\n",
       "41289382             56\n",
       "41203533             55"
      ]
     },
     "execution_count": 84,
     "metadata": {},
     "output_type": "execute_result"
    }
   ],
   "source": [
    "worst_offenders = all_data[all_data['CRITICAL FLAG'] == 'Critical']\n",
    "#len(worst_offenders)\n",
    "sorted_worst_offenders = worst_offenders[['CAMIS', 'CRITICAL FLAG']].groupby(['CAMIS']).count().sort_values(by='CRITICAL FLAG', ascending=False)\n",
    "sorted_worst_offenders.head(10)\n"
   ]
  }
 ],
 "metadata": {
  "kernelspec": {
   "display_name": "Python 2",
   "language": "python",
   "name": "python2"
  },
  "language_info": {
   "codemirror_mode": {
    "name": "ipython",
    "version": 2
   },
   "file_extension": ".py",
   "mimetype": "text/x-python",
   "name": "python",
   "nbconvert_exporter": "python",
   "pygments_lexer": "ipython2",
   "version": "2.7.11"
  }
 },
 "nbformat": 4,
 "nbformat_minor": 0
}
